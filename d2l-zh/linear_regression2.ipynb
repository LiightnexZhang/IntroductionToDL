{
 "cells": [
  {
   "cell_type": "code",
   "id": "initial_id",
   "metadata": {
    "collapsed": true,
    "ExecuteTime": {
     "end_time": "2024-10-17T02:37:52.846241Z",
     "start_time": "2024-10-17T02:37:49.073566Z"
    }
   },
   "source": [
    "import numpy as np\n",
    "import torch\n",
    "from torch.utils import data\n",
    "from d2l import torch as d2l\n",
    "\n",
    "true_w = torch.tensor([2, -3.4])\n",
    "true_b = 4.2\n",
    "features, labels = d2l.synthetic_data(true_w, true_b, 1000)"
   ],
   "outputs": [],
   "execution_count": 1
  },
  {
   "metadata": {
    "ExecuteTime": {
     "end_time": "2024-10-17T02:39:32.529838Z",
     "start_time": "2024-10-17T02:39:32.526274Z"
    }
   },
   "cell_type": "code",
   "source": [
    "def load_array(data_arrays, batch_size, is_train=True):  #@save\n",
    "    \"\"\"构造一个PyTorch数据迭代器\"\"\"\n",
    "    dataset = data.TensorDataset(*data_arrays)\n",
    "    return data.DataLoader(dataset, batch_size, shuffle=is_train)\n",
    "\n",
    "batch_size = 10\n",
    "data_iter = load_array((features, labels), batch_size)"
   ],
   "id": "bd85f7d6cdddccae",
   "outputs": [],
   "execution_count": 3
  },
  {
   "metadata": {
    "ExecuteTime": {
     "end_time": "2024-10-17T02:41:11.859242Z",
     "start_time": "2024-10-17T02:41:11.852181Z"
    }
   },
   "cell_type": "code",
   "source": [
    "next(iter(data_iter))"
   ],
   "id": "fa16691bf811504f",
   "outputs": [
    {
     "data": {
      "text/plain": [
       "[tensor([[ 3.5420e-01, -3.1957e-02],\n",
       "         [-3.7649e-01, -1.1956e-01],\n",
       "         [-9.2596e-01, -1.4848e+00],\n",
       "         [-1.2054e+00, -5.7388e-01],\n",
       "         [-7.4634e-01, -1.1868e+00],\n",
       "         [-6.9470e-01, -2.0785e+00],\n",
       "         [ 1.1759e+00,  9.9708e-01],\n",
       "         [ 1.4733e+00,  2.2296e-01],\n",
       "         [ 2.9061e-01, -5.0164e-02],\n",
       "         [-4.7813e-01,  5.2724e-04]]),\n",
       " tensor([[5.0104],\n",
       "         [3.8515],\n",
       "         [7.3834],\n",
       "         [3.7540],\n",
       "         [6.7526],\n",
       "         [9.8871],\n",
       "         [3.1706],\n",
       "         [6.3959],\n",
       "         [4.9617],\n",
       "         [3.2350]])]"
      ]
     },
     "execution_count": 4,
     "metadata": {},
     "output_type": "execute_result"
    }
   ],
   "execution_count": 4
  }
 ],
 "metadata": {
  "kernelspec": {
   "display_name": "Python 3",
   "language": "python",
   "name": "python3"
  },
  "language_info": {
   "codemirror_mode": {
    "name": "ipython",
    "version": 2
   },
   "file_extension": ".py",
   "mimetype": "text/x-python",
   "name": "python",
   "nbconvert_exporter": "python",
   "pygments_lexer": "ipython2",
   "version": "2.7.6"
  }
 },
 "nbformat": 4,
 "nbformat_minor": 5
}
